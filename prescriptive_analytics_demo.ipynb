{
 "cells": [
  {
   "cell_type": "markdown",
   "id": "48e1ec3d",
   "metadata": {},
   "source": [
    "# Prescriptive Analytics Demo: Prioritizing Preventive Care Outreach\n",
    "This demo identifies patients over 50 who have not had a recent preventive care visit and prioritizes them for outreach based on healthcare expenses.\n",
    "\n",
    "**Data Source**: Synthea Coherent Synthetic EHR  \n",
    "**Tools**: SQLite + SQL in Python (via pandas and sqlite3)"
   ]
  },
  {
   "cell_type": "code",
   "execution_count": null,
   "id": "48037c41",
   "metadata": {},
   "outputs": [],
   "source": [
    "import pandas as pd\n",
    "import sqlite3\n",
    "\n",
    "# Load CSV files\n",
    "patients = pd.read_csv('patients.csv')\n",
    "encounters = pd.read_csv('coherent-encounter200.csv')\n",
    "\n",
    "# Create SQLite database\n",
    "conn = sqlite3.connect(':memory:')\n",
    "patients.to_sql('patients', conn, index=False, if_exists='replace')\n",
    "encounters.to_sql('encounters', conn, index=False, if_exists='replace')"
   ]
  },
  {
   "cell_type": "markdown",
   "id": "9b43d95b",
   "metadata": {},
   "source": [
    "### Step 1: Filter patients over age 50"
   ]
  },
  {
   "cell_type": "code",
   "execution_count": null,
   "id": "177f3b13",
   "metadata": {},
   "outputs": [],
   "source": [
    "query_1 = '''\n",
    "SELECT Id AS patient_id, \n",
    "       BIRTHDATE, \n",
    "       CAST((julianday('now') - julianday(BIRTHDATE))/365.25 AS INT) AS age,\n",
    "       HEALTHCARE_EXPENSES\n",
    "FROM patients\n",
    "WHERE age >= 50\n",
    "'''\n",
    "patients_over_50 = pd.read_sql_query(query_1, conn)\n",
    "patients_over_50.head()"
   ]
  },
  {
   "cell_type": "markdown",
   "id": "4bf60b2f",
   "metadata": {},
   "source": [
    "### Step 2: Identify last preventive visit (if any)"
   ]
  },
  {
   "cell_type": "code",
   "execution_count": null,
   "id": "318c5903",
   "metadata": {},
   "outputs": [],
   "source": [
    "query_2 = '''\n",
    "SELECT PATIENT AS patient_id, \n",
    "       MAX(START) AS last_preventive\n",
    "FROM encounters\n",
    "WHERE DESCRIPTION LIKE '%wellness%'\n",
    "GROUP BY PATIENT\n",
    "'''\n",
    "preventive_visits = pd.read_sql_query(query_2, conn)\n",
    "preventive_visits.head()"
   ]
  },
  {
   "cell_type": "markdown",
   "id": "3e9106a0",
   "metadata": {},
   "source": [
    "### Step 3: Join and filter patients with no recent preventive visit"
   ]
  },
  {
   "cell_type": "code",
   "execution_count": null,
   "id": "39395ed2",
   "metadata": {},
   "outputs": [],
   "source": [
    "merged = patients_over_50.merge(preventive_visits, on='patient_id', how='left')\n",
    "merged['last_preventive'] = pd.to_datetime(merged['last_preventive'], errors='coerce')\n",
    "cutoff = pd.Timestamp.today() - pd.DateOffset(months=12)\n",
    "merged_filtered = merged[(merged['last_preventive'].isna()) | (merged['last_preventive'] < cutoff)]\n",
    "merged_filtered_sorted = merged_filtered.sort_values(by='HEALTHCARE_EXPENSES', ascending=False)\n",
    "merged_filtered_sorted[['patient_id', 'age', 'HEALTHCARE_EXPENSES', 'last_preventive']].head(10)"
   ]
  },
  {
   "cell_type": "markdown",
   "id": "2fd94bcb",
   "metadata": {},
   "source": [
    "**Interpretation**: These patients are aged 50+, have no recent preventive visit, and are sorted by healthcare expenses—suggesting higher cost/risk. They should be prioritized for outreach.\n",
    "\n",
    "You can modify this logic to include location, gender, or known chronic conditions from other Synthea tables."
   ]
  }
 ],
 "metadata": {},
 "nbformat": 4,
 "nbformat_minor": 5
}
